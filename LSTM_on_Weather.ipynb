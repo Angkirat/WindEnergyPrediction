{
  "nbformat": 4,
  "nbformat_minor": 0,
  "metadata": {
    "colab": {
      "name": "LSTM on Weather.ipynb",
      "provenance": [],
      "collapsed_sections": [
        "6u3Zsnz64dXD"
      ]
    },
    "kernelspec": {
      "name": "python3",
      "display_name": "Python 3"
    },
    "language_info": {
      "name": "python"
    },
    "accelerator": "TPU",
    "gpuClass": "standard"
  },
  "cells": [
    {
      "cell_type": "code",
      "source": [
        "import tensorflow as tf\n",
        "print(\"Tensorflow version \" + tf.__version__)\n",
        "\n",
        "try:\n",
        "  tpu = tf.distribute.cluster_resolver.TPUClusterResolver()  # TPU detection\n",
        "  print('Running on TPU ', tpu.cluster_spec().as_dict()['worker'])\n",
        "except ValueError:\n",
        "  raise BaseException('ERROR: Not connected to a TPU runtime; please see the previous cell in this notebook for instructions!')\n",
        "\n",
        "# tf.config.experimental_connect_to_cluster(tpu)\n",
        "# tf.tpu.experimental.initialize_tpu_system(tpu)\n",
        "# tpu_strategy = tf.distribute.experimental.TPUStrategy(tpu)"
      ],
      "metadata": {
        "colab": {
          "base_uri": "https://localhost:8080/"
        },
        "id": "2vfTHlfyatNw",
        "outputId": "7fe47a1a-28de-4fe4-f824-26d1a63fab1e"
      },
      "execution_count": 1,
      "outputs": [
        {
          "output_type": "stream",
          "name": "stdout",
          "text": [
            "Tensorflow version 2.8.2\n",
            "Running on TPU  ['10.61.209.218:8470']\n"
          ]
        }
      ]
    },
    {
      "cell_type": "code",
      "execution_count": 2,
      "metadata": {
        "colab": {
          "base_uri": "https://localhost:8080/"
        },
        "id": "0Fk_tck4tt2X",
        "outputId": "77a5409a-2313-47bd-c0af-9c6e3eee62b9"
      },
      "outputs": [
        {
          "output_type": "stream",
          "name": "stdout",
          "text": [
            "Mounted at /content/drive\n"
          ]
        }
      ],
      "source": [
        "import math\n",
        "import numpy as np\n",
        "import pandas as pd\n",
        "from matplotlib import pyplot as plt\n",
        "\n",
        "from keras.models import Sequential\n",
        "from keras.layers import Dense\n",
        "from keras.layers import LSTM\n",
        "\n",
        "from google.colab import drive\n",
        "drive.mount('/content/drive')"
      ]
    },
    {
      "cell_type": "markdown",
      "source": [
        "# Temperature data"
      ],
      "metadata": {
        "id": "6u3Zsnz64dXD"
      }
    },
    {
      "cell_type": "code",
      "source": [
        "#DUBLIN. /content/drive/MyDrive/Energy_Project\n",
        "df_dublin = pd.read_csv('/content/drive/MyDrive/Energy_Project/532_dublin_airport.csv')\n",
        "df_dublin.date = pd.to_datetime(df_dublin.date, infer_datetime_format=True, errors='ignore')\n",
        "# fix space value\n",
        "df_dublin.wdsp.replace(to_replace= ' ', value=0, inplace=True)\n",
        "df_dublin.wdsp = df_dublin.wdsp.astype('int32')\n",
        "dff_dublin = df_dublin.drop(columns=['Unnamed: 0', 'ind', 'rain', 'ind.1', 'ind.2', 'wetb', 'dewpt', 'ind.3', 'ind.4', 'ww', 'w', 'sun', 'vis', 'clht', 'clamt'])\n",
        "dff_dublin['wddir'] = dff_dublin['wddir'].bfill()"
      ],
      "metadata": {
        "id": "ScNOyymGWyjI"
      },
      "execution_count": 3,
      "outputs": []
    },
    {
      "cell_type": "code",
      "source": [
        "#CORK\n",
        "df_cork = pd.read_csv('/content/drive/MyDrive/Energy_Project/3904_cork_airport.csv')\n",
        "df_cork.date = pd.to_datetime(df_cork.date, infer_datetime_format=True, errors='ignore')\n",
        "# fix space value\n",
        "df_cork.wdsp.replace(to_replace= ' ', value=0, inplace=True)\n",
        "df_cork.wdsp = df_cork.wdsp.astype('int32')\n",
        "dff_cork = df_cork.drop(columns=['Unnamed: 0', 'ind', 'rain', 'ind.1', 'ind.2', 'wetb', 'dewpt', 'ind.3', 'ind.4', 'ww', 'w', 'sun', 'vis', 'clht', 'clamt'])\n",
        "dff_cork['wddir'] = dff_cork['wddir'].bfill()"
      ],
      "metadata": {
        "id": "9GXKuWRuW1XW"
      },
      "execution_count": 4,
      "outputs": []
    },
    {
      "cell_type": "code",
      "source": [
        "#SHANNON\n",
        "df_shannon = pd.read_csv('/content/drive/MyDrive/Energy_Project/518_shannon_airport.csv')\n",
        "df_shannon.date = pd.to_datetime(df_shannon.date, infer_datetime_format=True, errors='ignore')\n",
        "# fix space value\n",
        "df_shannon.wdsp.replace(to_replace= ' ', value=0, inplace=True)\n",
        "df_shannon.wdsp = df_shannon.wdsp.astype('int32')\n",
        "dff_shannon = df_shannon.drop(columns=['Unnamed: 0', 'ind', 'rain', 'ind.1', 'ind.2', 'wetb', 'dewpt', 'ind.3', 'ind.4', 'ww', 'w', 'sun', 'vis', 'clht', 'clamt'])\n",
        "dff_shannon['wddir'] = dff_shannon['wddir'].bfill()"
      ],
      "metadata": {
        "id": "YTMQzSjpW3KT"
      },
      "execution_count": 5,
      "outputs": []
    },
    {
      "cell_type": "code",
      "source": [
        "#BELMULLET\n",
        "df_bel = pd.read_csv('/content/drive/MyDrive/Energy_Project/2375_belmullet.csv')\n",
        "df_bel.date = pd.to_datetime(df_bel.date, infer_datetime_format=True, errors='ignore')\n",
        "# fix space value\n",
        "df_bel.wdsp.replace(to_replace= ' ', value=0, inplace=True)\n",
        "df_bel.wdsp = df_bel.wdsp.astype('int32')\n",
        "dff_bel = df_bel.drop(columns=['Unnamed: 0', 'ind', 'rain', 'ind.1', 'ind.2', 'wetb', 'dewpt', 'ind.3', 'ind.4', 'ww', 'w', 'sun', 'vis', 'clht', 'clamt'])\n",
        "dff_bel['wddir'] = dff_bel['wddir'].bfill()"
      ],
      "metadata": {
        "id": "LPgHoJfeW4z3"
      },
      "execution_count": 6,
      "outputs": []
    },
    {
      "cell_type": "code",
      "source": [
        "#MALIN HEAD\n",
        "df_malin = pd.read_csv('/content/drive/MyDrive/Energy_Project/1575_malin_head.csv')\n",
        "df_malin.date = pd.to_datetime(df_malin.date, infer_datetime_format=True, errors='ignore')\n",
        "# fix space value\n",
        "df_malin.wdsp.replace(to_replace= ' ', value=0, inplace=True)\n",
        "df_malin.wdsp = df_malin.wdsp.astype('int32')\n",
        "dff_malin = df_malin.drop(columns=['Unnamed: 0', 'ind', 'rain', 'ind.1', 'ind.2', 'wetb', 'dewpt', 'ind.3', 'ind.4', 'ww', 'w', 'sun', 'vis', 'clht', 'clamt'])\n",
        "dff_malin['wddir'] = dff_malin['wddir'].bfill()"
      ],
      "metadata": {
        "id": "gdcr1SA-W6Xx"
      },
      "execution_count": 7,
      "outputs": []
    },
    {
      "cell_type": "code",
      "source": [
        "#Merging weather data from different locations into a single dataset\n",
        "left = dff_bel.set_index(['date']).copy()\n",
        "right = dff_dublin.set_index(['date'])\n",
        "\n",
        "weather_df = left.join(right, lsuffix=\"_BEL\", rsuffix=\"_DUB\")\n",
        "\n",
        "right = dff_shannon.set_index(['date'])\n",
        "weather_df = weather_df.join(right, lsuffix=\"\", rsuffix=\"_SHA\") #ask\n",
        "\n",
        "right = dff_cork.set_index(['date'])\n",
        "weather_df = weather_df.join(right, lsuffix=\"\", rsuffix=\"_COR\")\n",
        "\n",
        "right = dff_malin.set_index(['date'])\n",
        "weather_df = weather_df.join(right, lsuffix=\"\", rsuffix=\"_MAL\")\n",
        "\n",
        "weather_df = weather_df.reset_index()\n",
        "\n",
        "weather_df.columns"
      ],
      "metadata": {
        "id": "9CMwtEU7W8qy",
        "colab": {
          "base_uri": "https://localhost:8080/"
        },
        "outputId": "636d8b52-2859-4278-8ded-719a6ac2fb74"
      },
      "execution_count": 8,
      "outputs": [
        {
          "output_type": "execute_result",
          "data": {
            "text/plain": [
              "Index(['date', 'temp_BEL', 'vappr_BEL', 'rhum_BEL', 'msl_BEL', 'wdsp_BEL',\n",
              "       'wddir_BEL', 'temp_DUB', 'vappr_DUB', 'rhum_DUB', 'msl_DUB', 'wdsp_DUB',\n",
              "       'wddir_DUB', 'temp', 'vappr', 'rhum', 'msl', 'wdsp', 'wddir',\n",
              "       'temp_COR', 'vappr_COR', 'rhum_COR', 'msl_COR', 'wdsp_COR', 'wddir_COR',\n",
              "       'temp_MAL', 'vappr_MAL', 'rhum_MAL', 'msl_MAL', 'wdsp_MAL',\n",
              "       'wddir_MAL'],\n",
              "      dtype='object')"
            ]
          },
          "metadata": {},
          "execution_count": 8
        }
      ]
    },
    {
      "cell_type": "markdown",
      "source": [
        "# Energy Data"
      ],
      "metadata": {
        "id": "o1YBV7ZY4wAy"
      }
    },
    {
      "cell_type": "code",
      "source": [
        "weather_df['date'] = pd.to_datetime(weather_df['date'], infer_datetime_format=True)\n",
        "weather_resampled = weather_df.set_index('date')\n",
        "weather_daily = weather_resampled.resample('D').mean()"
      ],
      "metadata": {
        "id": "l5Z9U5YMv2p_"
      },
      "execution_count": 9,
      "outputs": []
    },
    {
      "cell_type": "code",
      "source": [
        "df1 = pd.read_csv('/content/drive/MyDrive/Energy_Project/Energy Production_clean.csv')\n",
        "df1 = df1.drop(columns=['Start Time', 'Fossil Gas  - Actual Aggregated [MW]', 'Fossil Hard coal  - Actual Aggregated [MW]', 'Fossil Oil  - Actual Aggregated [MW]', 'Fossil Peat  - Actual Aggregated [MW]', 'Hydro Pumped Storage  - Actual Aggregated [MW]', 'Hydro Pumped Storage  - Actual Consumption [MW]', 'Hydro Run-of-river and poundage  - Actual Aggregated [MW]', 'Other  - Actual Aggregated [MW]'])\n",
        "print(df1.shape)\n",
        "df1 = df1.rename(columns = {'End Time':'date'})"
      ],
      "metadata": {
        "colab": {
          "base_uri": "https://localhost:8080/"
        },
        "id": "UYA5cKrL2_ib",
        "outputId": "cf1d2db9-e8bc-4fa8-b5fb-24ca65d93c50"
      },
      "execution_count": 10,
      "outputs": [
        {
          "output_type": "stream",
          "name": "stdout",
          "text": [
            "(122750, 3)\n"
          ]
        }
      ]
    },
    {
      "cell_type": "code",
      "source": [
        "df1['date'] = pd.to_datetime(df1['date'], infer_datetime_format=True)\n",
        "df1 = df1.set_index('date')\n",
        "#Filling missing values with Linear Interpolation\n",
        "df1['Wind Onshore  - Actual Aggregated [MW]'] = df1['Wind Onshore  - Actual Aggregated [MW]'].interpolate(method='linear', limit_direction='forward', axis=0)\n"
      ],
      "metadata": {
        "id": "zHtyIpWTXUoj"
      },
      "execution_count": 11,
      "outputs": []
    },
    {
      "cell_type": "code",
      "source": [
        "#Converting half hourly data to hourly data\n",
        "df1_hourly = df1.resample('1H').sum()"
      ],
      "metadata": {
        "id": "4yfF_vZ0XWXV"
      },
      "execution_count": 12,
      "outputs": []
    },
    {
      "cell_type": "code",
      "source": [
        "#Breaking date into month, day, week, weekday\n",
        "weather_df['year'] = pd.to_datetime(weather_df['date']).dt.month\n",
        "weather_df['month'] = pd.to_datetime(weather_df['date']).dt.month\n",
        "weather_df['day'] = pd.to_datetime(weather_df['date']).dt.day\n",
        "weather_df['week_number'] = pd.to_datetime(weather_df['date']).dt.week\n",
        "weather_df['week_day'] = pd.to_datetime(weather_df['date']).dt.weekday\n",
        "weather_df['isweekday'] = weather_df['week_day'] < 5\n",
        "weather_df['hour'] = pd.to_datetime(weather_df['date']).dt.hour"
      ],
      "metadata": {
        "id": "TLoH3u1vXpFi",
        "colab": {
          "base_uri": "https://localhost:8080/"
        },
        "outputId": "9cb0d064-f059-4d8a-c02c-d9ece763e43f"
      },
      "execution_count": 13,
      "outputs": [
        {
          "output_type": "stream",
          "name": "stderr",
          "text": [
            "/usr/local/lib/python3.7/dist-packages/ipykernel_launcher.py:5: FutureWarning: Series.dt.weekofyear and Series.dt.week have been deprecated.  Please use Series.dt.isocalendar().week instead.\n",
            "  \"\"\"\n"
          ]
        }
      ]
    },
    {
      "cell_type": "code",
      "source": [
        "df2 = pd.read_csv('/content/drive/MyDrive/Energy_Project/Energy_Total_Load_Day-Ahead_Ireland_2015-22.csv')\n",
        "print(df2.shape)\n",
        "df2.head()"
      ],
      "metadata": {
        "colab": {
          "base_uri": "https://localhost:8080/",
          "height": 221
        },
        "id": "OuR3AtplYu64",
        "outputId": "ff39ee4e-8030-473b-ed83-ce0f7ac022df"
      },
      "execution_count": 14,
      "outputs": [
        {
          "output_type": "stream",
          "name": "stdout",
          "text": [
            "(122750, 4)\n"
          ]
        },
        {
          "output_type": "execute_result",
          "data": {
            "text/plain": [
              "          Time_Start           Time_End  \\\n",
              "0  01.01.2015 00:00    01.01.2015 00:30   \n",
              "1  01.01.2015 00:30    01.01.2015 01:00   \n",
              "2  01.01.2015 01:00    01.01.2015 01:30   \n",
              "3  01.01.2015 01:30    01.01.2015 02:00   \n",
              "4  01.01.2015 02:00    01.01.2015 02:30   \n",
              "\n",
              "   Day-ahead Total Load Forecast [MW] - Ireland (IE)  \\\n",
              "0                                                NaN   \n",
              "1                                                NaN   \n",
              "2                                             3616.0   \n",
              "3                                             3550.0   \n",
              "4                                             3403.0   \n",
              "\n",
              "   Actual Total Load [MW] - Ireland (IE)  \n",
              "0                                    NaN  \n",
              "1                                    NaN  \n",
              "2                                 2903.0  \n",
              "3                                 2832.0  \n",
              "4                                 2726.0  "
            ],
            "text/html": [
              "\n",
              "  <div id=\"df-38563f62-dc65-4573-8deb-445e520dcc74\">\n",
              "    <div class=\"colab-df-container\">\n",
              "      <div>\n",
              "<style scoped>\n",
              "    .dataframe tbody tr th:only-of-type {\n",
              "        vertical-align: middle;\n",
              "    }\n",
              "\n",
              "    .dataframe tbody tr th {\n",
              "        vertical-align: top;\n",
              "    }\n",
              "\n",
              "    .dataframe thead th {\n",
              "        text-align: right;\n",
              "    }\n",
              "</style>\n",
              "<table border=\"1\" class=\"dataframe\">\n",
              "  <thead>\n",
              "    <tr style=\"text-align: right;\">\n",
              "      <th></th>\n",
              "      <th>Time_Start</th>\n",
              "      <th>Time_End</th>\n",
              "      <th>Day-ahead Total Load Forecast [MW] - Ireland (IE)</th>\n",
              "      <th>Actual Total Load [MW] - Ireland (IE)</th>\n",
              "    </tr>\n",
              "  </thead>\n",
              "  <tbody>\n",
              "    <tr>\n",
              "      <th>0</th>\n",
              "      <td>01.01.2015 00:00</td>\n",
              "      <td>01.01.2015 00:30</td>\n",
              "      <td>NaN</td>\n",
              "      <td>NaN</td>\n",
              "    </tr>\n",
              "    <tr>\n",
              "      <th>1</th>\n",
              "      <td>01.01.2015 00:30</td>\n",
              "      <td>01.01.2015 01:00</td>\n",
              "      <td>NaN</td>\n",
              "      <td>NaN</td>\n",
              "    </tr>\n",
              "    <tr>\n",
              "      <th>2</th>\n",
              "      <td>01.01.2015 01:00</td>\n",
              "      <td>01.01.2015 01:30</td>\n",
              "      <td>3616.0</td>\n",
              "      <td>2903.0</td>\n",
              "    </tr>\n",
              "    <tr>\n",
              "      <th>3</th>\n",
              "      <td>01.01.2015 01:30</td>\n",
              "      <td>01.01.2015 02:00</td>\n",
              "      <td>3550.0</td>\n",
              "      <td>2832.0</td>\n",
              "    </tr>\n",
              "    <tr>\n",
              "      <th>4</th>\n",
              "      <td>01.01.2015 02:00</td>\n",
              "      <td>01.01.2015 02:30</td>\n",
              "      <td>3403.0</td>\n",
              "      <td>2726.0</td>\n",
              "    </tr>\n",
              "  </tbody>\n",
              "</table>\n",
              "</div>\n",
              "      <button class=\"colab-df-convert\" onclick=\"convertToInteractive('df-38563f62-dc65-4573-8deb-445e520dcc74')\"\n",
              "              title=\"Convert this dataframe to an interactive table.\"\n",
              "              style=\"display:none;\">\n",
              "        \n",
              "  <svg xmlns=\"http://www.w3.org/2000/svg\" height=\"24px\"viewBox=\"0 0 24 24\"\n",
              "       width=\"24px\">\n",
              "    <path d=\"M0 0h24v24H0V0z\" fill=\"none\"/>\n",
              "    <path d=\"M18.56 5.44l.94 2.06.94-2.06 2.06-.94-2.06-.94-.94-2.06-.94 2.06-2.06.94zm-11 1L8.5 8.5l.94-2.06 2.06-.94-2.06-.94L8.5 2.5l-.94 2.06-2.06.94zm10 10l.94 2.06.94-2.06 2.06-.94-2.06-.94-.94-2.06-.94 2.06-2.06.94z\"/><path d=\"M17.41 7.96l-1.37-1.37c-.4-.4-.92-.59-1.43-.59-.52 0-1.04.2-1.43.59L10.3 9.45l-7.72 7.72c-.78.78-.78 2.05 0 2.83L4 21.41c.39.39.9.59 1.41.59.51 0 1.02-.2 1.41-.59l7.78-7.78 2.81-2.81c.8-.78.8-2.07 0-2.86zM5.41 20L4 18.59l7.72-7.72 1.47 1.35L5.41 20z\"/>\n",
              "  </svg>\n",
              "      </button>\n",
              "      \n",
              "  <style>\n",
              "    .colab-df-container {\n",
              "      display:flex;\n",
              "      flex-wrap:wrap;\n",
              "      gap: 12px;\n",
              "    }\n",
              "\n",
              "    .colab-df-convert {\n",
              "      background-color: #E8F0FE;\n",
              "      border: none;\n",
              "      border-radius: 50%;\n",
              "      cursor: pointer;\n",
              "      display: none;\n",
              "      fill: #1967D2;\n",
              "      height: 32px;\n",
              "      padding: 0 0 0 0;\n",
              "      width: 32px;\n",
              "    }\n",
              "\n",
              "    .colab-df-convert:hover {\n",
              "      background-color: #E2EBFA;\n",
              "      box-shadow: 0px 1px 2px rgba(60, 64, 67, 0.3), 0px 1px 3px 1px rgba(60, 64, 67, 0.15);\n",
              "      fill: #174EA6;\n",
              "    }\n",
              "\n",
              "    [theme=dark] .colab-df-convert {\n",
              "      background-color: #3B4455;\n",
              "      fill: #D2E3FC;\n",
              "    }\n",
              "\n",
              "    [theme=dark] .colab-df-convert:hover {\n",
              "      background-color: #434B5C;\n",
              "      box-shadow: 0px 1px 3px 1px rgba(0, 0, 0, 0.15);\n",
              "      filter: drop-shadow(0px 1px 2px rgba(0, 0, 0, 0.3));\n",
              "      fill: #FFFFFF;\n",
              "    }\n",
              "  </style>\n",
              "\n",
              "      <script>\n",
              "        const buttonEl =\n",
              "          document.querySelector('#df-38563f62-dc65-4573-8deb-445e520dcc74 button.colab-df-convert');\n",
              "        buttonEl.style.display =\n",
              "          google.colab.kernel.accessAllowed ? 'block' : 'none';\n",
              "\n",
              "        async function convertToInteractive(key) {\n",
              "          const element = document.querySelector('#df-38563f62-dc65-4573-8deb-445e520dcc74');\n",
              "          const dataTable =\n",
              "            await google.colab.kernel.invokeFunction('convertToInteractive',\n",
              "                                                     [key], {});\n",
              "          if (!dataTable) return;\n",
              "\n",
              "          const docLinkHtml = 'Like what you see? Visit the ' +\n",
              "            '<a target=\"_blank\" href=https://colab.research.google.com/notebooks/data_table.ipynb>data table notebook</a>'\n",
              "            + ' to learn more about interactive tables.';\n",
              "          element.innerHTML = '';\n",
              "          dataTable['output_type'] = 'display_data';\n",
              "          await google.colab.output.renderOutput(dataTable, element);\n",
              "          const docLink = document.createElement('div');\n",
              "          docLink.innerHTML = docLinkHtml;\n",
              "          element.appendChild(docLink);\n",
              "        }\n",
              "      </script>\n",
              "    </div>\n",
              "  </div>\n",
              "  "
            ]
          },
          "metadata": {},
          "execution_count": 14
        }
      ]
    },
    {
      "cell_type": "code",
      "source": [
        "df2['Time_End'] = pd.to_datetime(df2['Time_End'])\n",
        "df2 = df2.drop(columns='Time_Start')\n",
        "df2 = df2.set_index('Time_End')"
      ],
      "metadata": {
        "id": "Z9nKc-D0Y4Vz"
      },
      "execution_count": 15,
      "outputs": []
    },
    {
      "cell_type": "code",
      "source": [
        "df2['Actual Total Load [MW] - Ireland (IE)'] = df2['Actual Total Load [MW] - Ireland (IE)'].interpolate(method='linear', limit_direction='forward', axis=0)"
      ],
      "metadata": {
        "id": "42FIP7LpY8DF"
      },
      "execution_count": 16,
      "outputs": []
    },
    {
      "cell_type": "code",
      "source": [
        "df2['Actual Total Load [MW] - Ireland (IE)'].plot(figsize=(16,4),legend=False)\n",
        "\n",
        "plt.title('Energy Demand in Ireland')\n",
        "plt.xlabel('Time')\n",
        "plt.ylabel('Demand (MW)')\n",
        "\n",
        "plt.show()"
      ],
      "metadata": {
        "colab": {
          "base_uri": "https://localhost:8080/",
          "height": 285
        },
        "id": "PMTPF_JkZAAZ",
        "outputId": "bcdb535d-c2db-4b89-8a48-5a8fea74afca"
      },
      "execution_count": 17,
      "outputs": [
        {
          "output_type": "display_data",
          "data": {
            "text/plain": [
              "<Figure size 1152x288 with 1 Axes>"
            ],
            "image/png": "[encoded data removed]"
          },
          "metadata": {
            "needs_background": "light"
          }
        }
      ]
    },
    {
      "cell_type": "code",
      "source": [
        "energy_total = pd.read_csv('/content/drive/MyDrive/Energy_Project/Energy_Total_Load_Day-Ahead_Ireland_2015-22.csv')\n",
        "energy_total = energy_total[['Time_Start', \n",
        "                             'Day-ahead Total Load Forecast [MW] - Ireland (IE)', \n",
        "                             'Actual Total Load [MW] - Ireland (IE)']]\n",
        "energy_total.columns = ['date', 'ForecastDemandMW', 'ActualDemandMW']\n",
        "energy_total['date'] = pd.to_datetime(energy_total['date'], infer_datetime_format=True)\n",
        "energy_total = energy_total.set_index('date')\n",
        "energy_total_hourly = energy_total.resample('1H').mean()"
      ],
      "metadata": {
        "id": "Yg7SANMZJyw9"
      },
      "execution_count": 18,
      "outputs": []
    },
    {
      "cell_type": "code",
      "source": [
        "df1_hourly.columns = ['ActualWindMW']\n",
        "df1_hourly.head()"
      ],
      "metadata": {
        "colab": {
          "base_uri": "https://localhost:8080/",
          "height": 235
        },
        "id": "-sFGx8CVMW7J",
        "outputId": "a8beb3c0-300d-4df1-b2c5-2a3d288ec001"
      },
      "execution_count": 19,
      "outputs": [
        {
          "output_type": "execute_result",
          "data": {
            "text/plain": [
              "                     ActualWindMW\n",
              "date                             \n",
              "2015-01-01 00:00:00           0.0\n",
              "2015-01-01 01:00:00        1287.0\n",
              "2015-01-01 02:00:00        2626.0\n",
              "2015-01-01 03:00:00        2535.0\n",
              "2015-01-01 04:00:00        2381.0"
            ],
            "text/html": [
              "\n",
              "  <div id=\"df-e088e2e9-fbbd-4040-bfa6-486ea39eff17\">\n",
              "    <div class=\"colab-df-container\">\n",
              "      <div>\n",
              "<style scoped>\n",
              "    .dataframe tbody tr th:only-of-type {\n",
              "        vertical-align: middle;\n",
              "    }\n",
              "\n",
              "    .dataframe tbody tr th {\n",
              "        vertical-align: top;\n",
              "    }\n",
              "\n",
              "    .dataframe thead th {\n",
              "        text-align: right;\n",
              "    }\n",
              "</style>\n",
              "<table border=\"1\" class=\"dataframe\">\n",
              "  <thead>\n",
              "    <tr style=\"text-align: right;\">\n",
              "      <th></th>\n",
              "      <th>ActualWindMW</th>\n",
              "    </tr>\n",
              "    <tr>\n",
              "      <th>date</th>\n",
              "      <th></th>\n",
              "    </tr>\n",
              "  </thead>\n",
              "  <tbody>\n",
              "    <tr>\n",
              "      <th>2015-01-01 00:00:00</th>\n",
              "      <td>0.0</td>\n",
              "    </tr>\n",
              "    <tr>\n",
              "      <th>2015-01-01 01:00:00</th>\n",
              "      <td>1287.0</td>\n",
              "    </tr>\n",
              "    <tr>\n",
              "      <th>2015-01-01 02:00:00</th>\n",
              "      <td>2626.0</td>\n",
              "    </tr>\n",
              "    <tr>\n",
              "      <th>2015-01-01 03:00:00</th>\n",
              "      <td>2535.0</td>\n",
              "    </tr>\n",
              "    <tr>\n",
              "      <th>2015-01-01 04:00:00</th>\n",
              "      <td>2381.0</td>\n",
              "    </tr>\n",
              "  </tbody>\n",
              "</table>\n",
              "</div>\n",
              "      <button class=\"colab-df-convert\" onclick=\"convertToInteractive('df-e088e2e9-fbbd-4040-bfa6-486ea39eff17')\"\n",
              "              title=\"Convert this dataframe to an interactive table.\"\n",
              "              style=\"display:none;\">\n",
              "        \n",
              "  <svg xmlns=\"http://www.w3.org/2000/svg\" height=\"24px\"viewBox=\"0 0 24 24\"\n",
              "       width=\"24px\">\n",
              "    <path d=\"M0 0h24v24H0V0z\" fill=\"none\"/>\n",
              "    <path d=\"M18.56 5.44l.94 2.06.94-2.06 2.06-.94-2.06-.94-.94-2.06-.94 2.06-2.06.94zm-11 1L8.5 8.5l.94-2.06 2.06-.94-2.06-.94L8.5 2.5l-.94 2.06-2.06.94zm10 10l.94 2.06.94-2.06 2.06-.94-2.06-.94-.94-2.06-.94 2.06-2.06.94z\"/><path d=\"M17.41 7.96l-1.37-1.37c-.4-.4-.92-.59-1.43-.59-.52 0-1.04.2-1.43.59L10.3 9.45l-7.72 7.72c-.78.78-.78 2.05 0 2.83L4 21.41c.39.39.9.59 1.41.59.51 0 1.02-.2 1.41-.59l7.78-7.78 2.81-2.81c.8-.78.8-2.07 0-2.86zM5.41 20L4 18.59l7.72-7.72 1.47 1.35L5.41 20z\"/>\n",
              "  </svg>\n",
              "      </button>\n",
              "      \n",
              "  <style>\n",
              "    .colab-df-container {\n",
              "      display:flex;\n",
              "      flex-wrap:wrap;\n",
              "      gap: 12px;\n",
              "    }\n",
              "\n",
              "    .colab-df-convert {\n",
              "      background-color: #E8F0FE;\n",
              "      border: none;\n",
              "      border-radius: 50%;\n",
              "      cursor: pointer;\n",
              "      display: none;\n",
              "      fill: #1967D2;\n",
              "      height: 32px;\n",
              "      padding: 0 0 0 0;\n",
              "      width: 32px;\n",
              "    }\n",
              "\n",
              "    .colab-df-convert:hover {\n",
              "      background-color: #E2EBFA;\n",
              "      box-shadow: 0px 1px 2px rgba(60, 64, 67, 0.3), 0px 1px 3px 1px rgba(60, 64, 67, 0.15);\n",
              "      fill: #174EA6;\n",
              "    }\n",
              "\n",
              "    [theme=dark] .colab-df-convert {\n",
              "      background-color: #3B4455;\n",
              "      fill: #D2E3FC;\n",
              "    }\n",
              "\n",
              "    [theme=dark] .colab-df-convert:hover {\n",
              "      background-color: #434B5C;\n",
              "      box-shadow: 0px 1px 3px 1px rgba(0, 0, 0, 0.15);\n",
              "      filter: drop-shadow(0px 1px 2px rgba(0, 0, 0, 0.3));\n",
              "      fill: #FFFFFF;\n",
              "    }\n",
              "  </style>\n",
              "\n",
              "      <script>\n",
              "        const buttonEl =\n",
              "          document.querySelector('#df-e088e2e9-fbbd-4040-bfa6-486ea39eff17 button.colab-df-convert');\n",
              "        buttonEl.style.display =\n",
              "          google.colab.kernel.accessAllowed ? 'block' : 'none';\n",
              "\n",
              "        async function convertToInteractive(key) {\n",
              "          const element = document.querySelector('#df-e088e2e9-fbbd-4040-bfa6-486ea39eff17');\n",
              "          const dataTable =\n",
              "            await google.colab.kernel.invokeFunction('convertToInteractive',\n",
              "                                                     [key], {});\n",
              "          if (!dataTable) return;\n",
              "\n",
              "          const docLinkHtml = 'Like what you see? Visit the ' +\n",
              "            '<a target=\"_blank\" href=https://colab.research.google.com/notebooks/data_table.ipynb>data table notebook</a>'\n",
              "            + ' to learn more about interactive tables.';\n",
              "          element.innerHTML = '';\n",
              "          dataTable['output_type'] = 'display_data';\n",
              "          await google.colab.output.renderOutput(dataTable, element);\n",
              "          const docLink = document.createElement('div');\n",
              "          docLink.innerHTML = docLinkHtml;\n",
              "          element.appendChild(docLink);\n",
              "        }\n",
              "      </script>\n",
              "    </div>\n",
              "  </div>\n",
              "  "
            ]
          },
          "metadata": {},
          "execution_count": 19
        }
      ]
    },
    {
      "cell_type": "code",
      "source": [
        "weather_load = weather_df.merge(energy_total_hourly,on='date')\n",
        "weather_energy =  weather_load.merge(df1_hourly,on='date')\n",
        "weather_energy.columns"
      ],
      "metadata": {
        "id": "v9qUlGurYYTH",
        "colab": {
          "base_uri": "https://localhost:8080/"
        },
        "outputId": "1330dad6-f4a2-4d20-aefc-f5494d5cd721"
      },
      "execution_count": 20,
      "outputs": [
        {
          "output_type": "execute_result",
          "data": {
            "text/plain": [
              "Index(['date', 'temp_BEL', 'vappr_BEL', 'rhum_BEL', 'msl_BEL', 'wdsp_BEL',\n",
              "       'wddir_BEL', 'temp_DUB', 'vappr_DUB', 'rhum_DUB', 'msl_DUB', 'wdsp_DUB',\n",
              "       'wddir_DUB', 'temp', 'vappr', 'rhum', 'msl', 'wdsp', 'wddir',\n",
              "       'temp_COR', 'vappr_COR', 'rhum_COR', 'msl_COR', 'wdsp_COR', 'wddir_COR',\n",
              "       'temp_MAL', 'vappr_MAL', 'rhum_MAL', 'msl_MAL', 'wdsp_MAL', 'wddir_MAL',\n",
              "       'year', 'month', 'day', 'week_number', 'week_day', 'isweekday', 'hour',\n",
              "       'ForecastDemandMW', 'ActualDemandMW', 'ActualWindMW'],\n",
              "      dtype='object')"
            ]
          },
          "metadata": {},
          "execution_count": 20
        }
      ]
    },
    {
      "cell_type": "markdown",
      "source": [
        "# Final Data creation"
      ],
      "metadata": {
        "id": "4gvwsHm642qy"
      }
    },
    {
      "cell_type": "code",
      "source": [
        "weather_energy.set_index('date', inplace=True, drop=False)\n",
        "display(weather_energy.head())"
      ],
      "metadata": {
        "id": "8ch--N46aCQI",
        "colab": {
          "base_uri": "https://localhost:8080/",
          "height": 498
        },
        "outputId": "12e6e1e7-9380-4d24-8f1c-800cd4c34abc"
      },
      "execution_count": 21,
      "outputs": [
        {
          "output_type": "display_data",
          "data": {
            "text/plain": [
              "                                   date  temp_BEL  vappr_BEL  rhum_BEL  \\\n",
              "date                                                                     \n",
              "2015-01-01 00:00:00 2015-01-01 00:00:00      11.2       11.1        84   \n",
              "2015-01-01 01:00:00 2015-01-01 01:00:00      11.3       11.5        86   \n",
              "2015-01-01 02:00:00 2015-01-01 02:00:00      11.4       11.7        86   \n",
              "2015-01-01 03:00:00 2015-01-01 03:00:00      11.2       11.8        88   \n",
              "2015-01-01 04:00:00 2015-01-01 04:00:00      10.3       11.8        94   \n",
              "\n",
              "                     msl_BEL  wdsp_BEL  wddir_BEL  temp_DUB  vappr_DUB  \\\n",
              "date                                                                     \n",
              "2015-01-01 00:00:00   1015.0        28        200       9.2       10.2   \n",
              "2015-01-01 01:00:00   1014.8        27        200       9.2        9.3   \n",
              "2015-01-01 02:00:00   1014.8        26        200       9.2        9.2   \n",
              "2015-01-01 03:00:00   1013.6        25        200      10.1        8.7   \n",
              "2015-01-01 04:00:00   1012.1        20        180      10.6        9.3   \n",
              "\n",
              "                     rhum_DUB  ...  year  month  day  week_number  week_day  \\\n",
              "date                           ...                                            \n",
              "2015-01-01 00:00:00        88  ...     1      1    1            1         3   \n",
              "2015-01-01 01:00:00        80  ...     1      1    1            1         3   \n",
              "2015-01-01 02:00:00        79  ...     1      1    1            1         3   \n",
              "2015-01-01 03:00:00        71  ...     1      1    1            1         3   \n",
              "2015-01-01 04:00:00        72  ...     1      1    1            1         3   \n",
              "\n",
              "                     isweekday  hour  ForecastDemandMW  ActualDemandMW  \\\n",
              "date                                                                     \n",
              "2015-01-01 00:00:00       True     0               NaN             NaN   \n",
              "2015-01-01 01:00:00       True     1            3583.0          2867.5   \n",
              "2015-01-01 02:00:00       True     2            3332.5          2678.0   \n",
              "2015-01-01 03:00:00       True     3            3047.5          2432.5   \n",
              "2015-01-01 04:00:00       True     4            2830.0          2276.0   \n",
              "\n",
              "                     ActualWindMW  \n",
              "date                               \n",
              "2015-01-01 00:00:00           0.0  \n",
              "2015-01-01 01:00:00        1287.0  \n",
              "2015-01-01 02:00:00        2626.0  \n",
              "2015-01-01 03:00:00        2535.0  \n",
              "2015-01-01 04:00:00        2381.0  \n",
              "\n",
              "[5 rows x 41 columns]"
            ],
            "text/html": [
              "\n",
              "  <div id=\"df-a2a003a1-9cca-4a6e-ab23-6b68c24b71c5\">\n",
              "    <div class=\"colab-df-container\">\n",
              "      <div>\n",
              "<style scoped>\n",
              "    .dataframe tbody tr th:only-of-type {\n",
              "        vertical-align: middle;\n",
              "    }\n",
              "\n",
              "    .dataframe tbody tr th {\n",
              "        vertical-align: top;\n",
              "    }\n",
              "\n",
              "    .dataframe thead th {\n",
              "        text-align: right;\n",
              "    }\n",
              "</style>\n",
              "<table border=\"1\" class=\"dataframe\">\n",
              "  <thead>\n",
              "    <tr style=\"text-align: right;\">\n",
              "      <th></th>\n",
              "      <th>date</th>\n",
              "      <th>temp_BEL</th>\n",
              "      <th>vappr_BEL</th>\n",
              "      <th>rhum_BEL</th>\n",
              "      <th>msl_BEL</th>\n",
              "      <th>wdsp_BEL</th>\n",
              "      <th>wddir_BEL</th>\n",
              "      <th>temp_DUB</th>\n",
              "      <th>vappr_DUB</th>\n",
              "      <th>rhum_DUB</th>\n",
              "      <th>...</th>\n",
              "      <th>year</th>\n",
              "      <th>month</th>\n",
              "      <th>day</th>\n",
              "      <th>week_number</th>\n",
              "      <th>week_day</th>\n",
              "      <th>isweekday</th>\n",
              "      <th>hour</th>\n",
              "      <th>ForecastDemandMW</th>\n",
              "      <th>ActualDemandMW</th>\n",
              "      <th>ActualWindMW</th>\n",
              "    </tr>\n",
              "    <tr>\n",
              "      <th>date</th>\n",
              "      <th></th>\n",
              "      <th></th>\n",
              "      <th></th>\n",
              "      <th></th>\n",
              "      <th></th>\n",
              "      <th></th>\n",
              "      <th></th>\n",
              "      <th></th>\n",
              "      <th></th>\n",
              "      <th></th>\n",
              "      <th></th>\n",
              "      <th></th>\n",
              "      <th></th>\n",
              "      <th></th>\n",
              "      <th></th>\n",
              "      <th></th>\n",
              "      <th></th>\n",
              "      <th></th>\n",
              "      <th></th>\n",
              "      <th></th>\n",
              "      <th></th>\n",
              "    </tr>\n",
              "  </thead>\n",
              "  <tbody>\n",
              "    <tr>\n",
              "      <th>2015-01-01 00:00:00</th>\n",
              "      <td>2015-01-01 00:00:00</td>\n",
              "      <td>11.2</td>\n",
              "      <td>11.1</td>\n",
              "      <td>84</td>\n",
              "      <td>1015.0</td>\n",
              "      <td>28</td>\n",
              "      <td>200</td>\n",
              "      <td>9.2</td>\n",
              "      <td>10.2</td>\n",
              "      <td>88</td>\n",
              "      <td>...</td>\n",
              "      <td>1</td>\n",
              "      <td>1</td>\n",
              "      <td>1</td>\n",
              "      <td>1</td>\n",
              "      <td>3</td>\n",
              "      <td>True</td>\n",
              "      <td>0</td>\n",
              "      <td>NaN</td>\n",
              "      <td>NaN</td>\n",
              "      <td>0.0</td>\n",
              "    </tr>\n",
              "    <tr>\n",
              "      <th>2015-01-01 01:00:00</th>\n",
              "      <td>2015-01-01 01:00:00</td>\n",
              "      <td>11.3</td>\n",
              "      <td>11.5</td>\n",
              "      <td>86</td>\n",
              "      <td>1014.8</td>\n",
              "      <td>27</td>\n",
              "      <td>200</td>\n",
              "      <td>9.2</td>\n",
              "      <td>9.3</td>\n",
              "      <td>80</td>\n",
              "      <td>...</td>\n",
              "      <td>1</td>\n",
              "      <td>1</td>\n",
              "      <td>1</td>\n",
              "      <td>1</td>\n",
              "      <td>3</td>\n",
              "      <td>True</td>\n",
              "      <td>1</td>\n",
              "      <td>3583.0</td>\n",
              "      <td>2867.5</td>\n",
              "      <td>1287.0</td>\n",
              "    </tr>\n",
              "    <tr>\n",
              "      <th>2015-01-01 02:00:00</th>\n",
              "      <td>2015-01-01 02:00:00</td>\n",
              "      <td>11.4</td>\n",
              "      <td>11.7</td>\n",
              "      <td>86</td>\n",
              "      <td>1014.8</td>\n",
              "      <td>26</td>\n",
              "      <td>200</td>\n",
              "      <td>9.2</td>\n",
              "      <td>9.2</td>\n",
              "      <td>79</td>\n",
              "      <td>...</td>\n",
              "      <td>1</td>\n",
              "      <td>1</td>\n",
              "      <td>1</td>\n",
              "      <td>1</td>\n",
              "      <td>3</td>\n",
              "      <td>True</td>\n",
              "      <td>2</td>\n",
              "      <td>3332.5</td>\n",
              "      <td>2678.0</td>\n",
              "      <td>2626.0</td>\n",
              "    </tr>\n",
              "    <tr>\n",
              "      <th>2015-01-01 03:00:00</th>\n",
              "      <td>2015-01-01 03:00:00</td>\n",
              "      <td>11.2</td>\n",
              "      <td>11.8</td>\n",
              "      <td>88</td>\n",
              "      <td>1013.6</td>\n",
              "      <td>25</td>\n",
              "      <td>200</td>\n",
              "      <td>10.1</td>\n",
              "      <td>8.7</td>\n",
              "      <td>71</td>\n",
              "      <td>...</td>\n",
              "      <td>1</td>\n",
              "      <td>1</td>\n",
              "      <td>1</td>\n",
              "      <td>1</td>\n",
              "      <td>3</td>\n",
              "      <td>True</td>\n",
              "      <td>3</td>\n",
              "      <td>3047.5</td>\n",
              "      <td>2432.5</td>\n",
              "      <td>2535.0</td>\n",
              "    </tr>\n",
              "    <tr>\n",
              "      <th>2015-01-01 04:00:00</th>\n",
              "      <td>2015-01-01 04:00:00</td>\n",
              "      <td>10.3</td>\n",
              "      <td>11.8</td>\n",
              "      <td>94</td>\n",
              "      <td>1012.1</td>\n",
              "      <td>20</td>\n",
              "      <td>180</td>\n",
              "      <td>10.6</td>\n",
              "      <td>9.3</td>\n",
              "      <td>72</td>\n",
              "      <td>...</td>\n",
              "      <td>1</td>\n",
              "      <td>1</td>\n",
              "      <td>1</td>\n",
              "      <td>1</td>\n",
              "      <td>3</td>\n",
              "      <td>True</td>\n",
              "      <td>4</td>\n",
              "      <td>2830.0</td>\n",
              "      <td>2276.0</td>\n",
              "      <td>2381.0</td>\n",
              "    </tr>\n",
              "  </tbody>\n",
              "</table>\n",
              "<p>5 rows × 41 columns</p>\n",
              "</div>\n",
              "      <button class=\"colab-df-convert\" onclick=\"convertToInteractive('df-a2a003a1-9cca-4a6e-ab23-6b68c24b71c5')\"\n",
              "              title=\"Convert this dataframe to an interactive table.\"\n",
              "              style=\"display:none;\">\n",
              "        \n",
              "  <svg xmlns=\"http://www.w3.org/2000/svg\" height=\"24px\"viewBox=\"0 0 24 24\"\n",
              "       width=\"24px\">\n",
              "    <path d=\"M0 0h24v24H0V0z\" fill=\"none\"/>\n",
              "    <path d=\"M18.56 5.44l.94 2.06.94-2.06 2.06-.94-2.06-.94-.94-2.06-.94 2.06-2.06.94zm-11 1L8.5 8.5l.94-2.06 2.06-.94-2.06-.94L8.5 2.5l-.94 2.06-2.06.94zm10 10l.94 2.06.94-2.06 2.06-.94-2.06-.94-.94-2.06-.94 2.06-2.06.94z\"/><path d=\"M17.41 7.96l-1.37-1.37c-.4-.4-.92-.59-1.43-.59-.52 0-1.04.2-1.43.59L10.3 9.45l-7.72 7.72c-.78.78-.78 2.05 0 2.83L4 21.41c.39.39.9.59 1.41.59.51 0 1.02-.2 1.41-.59l7.78-7.78 2.81-2.81c.8-.78.8-2.07 0-2.86zM5.41 20L4 18.59l7.72-7.72 1.47 1.35L5.41 20z\"/>\n",
              "  </svg>\n",
              "      </button>\n",
              "      \n",
              "  <style>\n",
              "    .colab-df-container {\n",
              "      display:flex;\n",
              "      flex-wrap:wrap;\n",
              "      gap: 12px;\n",
              "    }\n",
              "\n",
              "    .colab-df-convert {\n",
              "      background-color: #E8F0FE;\n",
              "      border: none;\n",
              "      border-radius: 50%;\n",
              "      cursor: pointer;\n",
              "      display: none;\n",
              "      fill: #1967D2;\n",
              "      height: 32px;\n",
              "      padding: 0 0 0 0;\n",
              "      width: 32px;\n",
              "    }\n",
              "\n",
              "    .colab-df-convert:hover {\n",
              "      background-color: #E2EBFA;\n",
              "      box-shadow: 0px 1px 2px rgba(60, 64, 67, 0.3), 0px 1px 3px 1px rgba(60, 64, 67, 0.15);\n",
              "      fill: #174EA6;\n",
              "    }\n",
              "\n",
              "    [theme=dark] .colab-df-convert {\n",
              "      background-color: #3B4455;\n",
              "      fill: #D2E3FC;\n",
              "    }\n",
              "\n",
              "    [theme=dark] .colab-df-convert:hover {\n",
              "      background-color: #434B5C;\n",
              "      box-shadow: 0px 1px 3px 1px rgba(0, 0, 0, 0.15);\n",
              "      filter: drop-shadow(0px 1px 2px rgba(0, 0, 0, 0.3));\n",
              "      fill: #FFFFFF;\n",
              "    }\n",
              "  </style>\n",
              "\n",
              "      <script>\n",
              "        const buttonEl =\n",
              "          document.querySelector('#df-a2a003a1-9cca-4a6e-ab23-6b68c24b71c5 button.colab-df-convert');\n",
              "        buttonEl.style.display =\n",
              "          google.colab.kernel.accessAllowed ? 'block' : 'none';\n",
              "\n",
              "        async function convertToInteractive(key) {\n",
              "          const element = document.querySelector('#df-a2a003a1-9cca-4a6e-ab23-6b68c24b71c5');\n",
              "          const dataTable =\n",
              "            await google.colab.kernel.invokeFunction('convertToInteractive',\n",
              "                                                     [key], {});\n",
              "          if (!dataTable) return;\n",
              "\n",
              "          const docLinkHtml = 'Like what you see? Visit the ' +\n",
              "            '<a target=\"_blank\" href=https://colab.research.google.com/notebooks/data_table.ipynb>data table notebook</a>'\n",
              "            + ' to learn more about interactive tables.';\n",
              "          element.innerHTML = '';\n",
              "          dataTable['output_type'] = 'display_data';\n",
              "          await google.colab.output.renderOutput(dataTable, element);\n",
              "          const docLink = document.createElement('div');\n",
              "          docLink.innerHTML = docLinkHtml;\n",
              "          element.appendChild(docLink);\n",
              "        }\n",
              "      </script>\n",
              "    </div>\n",
              "  </div>\n",
              "  "
            ]
          },
          "metadata": {}
        }
      ]
    },
    {
      "cell_type": "markdown",
      "source": [
        "# Data Engineering"
      ],
      "metadata": {
        "id": "-sXSdlc74-vw"
      }
    },
    {
      "cell_type": "markdown",
      "source": [
        ""
      ],
      "metadata": {
        "id": "MQZjowYf4-t7"
      }
    },
    {
      "cell_type": "code",
      "source": [
        "suffixes = ['_COR', '_DUB', '_BEL', '', '_MAL']\n",
        "for suffix in suffixes:\n",
        "  weather_energy['wind' + suffix + '_sin'] = weather_energy['wdsp'+ suffix] * weather_energy['wddir' + suffix].apply(math.sin)\n",
        "  weather_energy['wind' + suffix + '_cos'] = weather_energy['wdsp'+ suffix] * weather_energy['wddir' + suffix].apply(math.cos)\n",
        "\n",
        "weather_energy.columns"
      ],
      "metadata": {
        "colab": {
          "base_uri": "https://localhost:8080/"
        },
        "id": "mdysPhPd4-Oz",
        "outputId": "c1e363b0-0f00-43a4-e7a3-1742ea541fac"
      },
      "execution_count": 22,
      "outputs": [
        {
          "output_type": "execute_result",
          "data": {
            "text/plain": [
              "Index(['date', 'temp_BEL', 'vappr_BEL', 'rhum_BEL', 'msl_BEL', 'wdsp_BEL',\n",
              "       'wddir_BEL', 'temp_DUB', 'vappr_DUB', 'rhum_DUB', 'msl_DUB', 'wdsp_DUB',\n",
              "       'wddir_DUB', 'temp', 'vappr', 'rhum', 'msl', 'wdsp', 'wddir',\n",
              "       'temp_COR', 'vappr_COR', 'rhum_COR', 'msl_COR', 'wdsp_COR', 'wddir_COR',\n",
              "       'temp_MAL', 'vappr_MAL', 'rhum_MAL', 'msl_MAL', 'wdsp_MAL', 'wddir_MAL',\n",
              "       'year', 'month', 'day', 'week_number', 'week_day', 'isweekday', 'hour',\n",
              "       'ForecastDemandMW', 'ActualDemandMW', 'ActualWindMW', 'wind_COR_sin',\n",
              "       'wind_COR_cos', 'wind_DUB_sin', 'wind_DUB_cos', 'wind_BEL_sin',\n",
              "       'wind_BEL_cos', 'wind_sin', 'wind_cos', 'wind_MAL_sin', 'wind_MAL_cos'],\n",
              "      dtype='object')"
            ]
          },
          "metadata": {},
          "execution_count": 22
        }
      ]
    },
    {
      "cell_type": "code",
      "source": [
        "def transformTimeInto2d(df):\n",
        "  df['Day_inYear'] = None\n",
        "  df['daysInYear'] = None\n",
        "  df['radianTime'] = None\n",
        "  df['radianTimeCos'] = None\n",
        "  df['radianTimeSin'] = None\n",
        "  df['hourCos'] = None\n",
        "  df['hourSin'] = None\n",
        "\n",
        "  def check_leap(year):\n",
        "    if year%4 == 0:\n",
        "      return 366\n",
        "    else:\n",
        "      return 365\n",
        "\n",
        "  def transformTimeInto2dRow(row):\n",
        "    row['Day_inYear'] = row['date'].timetuple().tm_yday\n",
        "    daysInYear = check_leap(row['year'])\n",
        "    row['daysInYear'] = daysInYear\n",
        "    row['radianTime'] = (row.hour + row.Day_inYear * 24 ) / (24 * daysInYear) * (2*np.pi)\n",
        "    row['radianTimeCos'] = math.cos(row['radianTime'])\n",
        "    row['radianTimeSin'] = math.sin(row['radianTime'])\n",
        "    row['hourCos'] = math.cos(row.hour/24 * (2*np.pi))\n",
        "    row['hourSin'] = math.sin(row.hour/24 * (2*np.pi))\n",
        "    return row\n",
        "\n",
        "  df = df.apply(transformTimeInto2dRow, axis='columns')\n",
        "  return df\n",
        "\n",
        "weather_energy_2d_Data = transformTimeInto2d(weather_energy)\n",
        "weather_energy_2d_Data.columns"
      ],
      "metadata": {
        "colab": {
          "base_uri": "https://localhost:8080/"
        },
        "id": "n4L9uhGt8ZlT",
        "outputId": "be87fd37-f544-4d0f-ca6c-d76100ad76f1"
      },
      "execution_count": 23,
      "outputs": [
        {
          "output_type": "execute_result",
          "data": {
            "text/plain": [
              "Index(['date', 'temp_BEL', 'vappr_BEL', 'rhum_BEL', 'msl_BEL', 'wdsp_BEL',\n",
              "       'wddir_BEL', 'temp_DUB', 'vappr_DUB', 'rhum_DUB', 'msl_DUB', 'wdsp_DUB',\n",
              "       'wddir_DUB', 'temp', 'vappr', 'rhum', 'msl', 'wdsp', 'wddir',\n",
              "       'temp_COR', 'vappr_COR', 'rhum_COR', 'msl_COR', 'wdsp_COR', 'wddir_COR',\n",
              "       'temp_MAL', 'vappr_MAL', 'rhum_MAL', 'msl_MAL', 'wdsp_MAL', 'wddir_MAL',\n",
              "       'year', 'month', 'day', 'week_number', 'week_day', 'isweekday', 'hour',\n",
              "       'ForecastDemandMW', 'ActualDemandMW', 'ActualWindMW', 'wind_COR_sin',\n",
              "       'wind_COR_cos', 'wind_DUB_sin', 'wind_DUB_cos', 'wind_BEL_sin',\n",
              "       'wind_BEL_cos', 'wind_sin', 'wind_cos', 'wind_MAL_sin', 'wind_MAL_cos',\n",
              "       'Day_inYear', 'daysInYear', 'radianTime', 'radianTimeCos',\n",
              "       'radianTimeSin', 'hourCos', 'hourSin'],\n",
              "      dtype='object')"
            ]
          },
          "metadata": {},
          "execution_count": 23
        }
      ]
    },
    {
      "cell_type": "code",
      "source": [
        "weather_energy_2d_Data['ActualDemandMW_shift'] = weather_energy_2d_Data['ActualDemandMW'].shift(24)\n",
        "weather_energy_2d_Data['ForecastDemandMW_shift'] = weather_energy_2d_Data['ForecastDemandMW'].shift(24)\n",
        "weather_energy_2d_Data.dropna(inplace=True)"
      ],
      "metadata": {
        "id": "lr4u5_xnFKmi"
      },
      "execution_count": 24,
      "outputs": []
    },
    {
      "cell_type": "code",
      "source": [
        "# attrs = ['date', 'hour', 'month', 'year', 'Day_inYear',\n",
        "#           'wdsp_BEL', 'wddir_BEL', 'wind_BEL_sin', 'wind_BEL_cos','vappr_BEL', 'rhum_BEL', 'temp_BEL',\n",
        "#           'wdsp', 'wddir', 'wind_sin', 'wind_cos', 'vappr', 'rhum', 'temp', 'msl',\n",
        "#           'wdsp_COR', 'wddir_COR', 'wind_COR_sin', 'wind_COR_cos', 'vappr_COR', 'rhum_COR', 'temp_COR',\n",
        "#           'wdsp_DUB', 'wddir_DUB', 'wind_DUB_sin', 'wind_DUB_cos', 'vappr_DUB', 'rhum_DUB', 'temp_DUB',\n",
        "#           'wdsp_MAL', 'wddir_MAL', 'wind_MAL_sin', 'wind_MAL_cos', 'vappr_MAL', 'rhum_MAL', 'temp_MAL',\n",
        "#           'radianTimeSin', 'radianTimeCos', 'hourSin', 'hourCos',\n",
        "#           'ActualWindMW', 'ActualDemandMW', 'ForecastDemandMW']\n",
        "\n",
        "feature_attr = ['wind_BEL_sin', 'wind_BEL_cos','vappr_BEL', 'rhum_BEL', 'temp_BEL',\n",
        "            'wind_sin', 'wind_cos', 'vappr', 'rhum', 'temp', 'msl',\n",
        "            'wind_COR_sin', 'wind_COR_cos', 'vappr_COR', 'rhum_COR', 'temp_COR',\n",
        "            'wind_DUB_sin', 'wind_DUB_cos', 'vappr_DUB', 'rhum_DUB', 'temp_DUB',\n",
        "            'wind_MAL_sin', 'wind_MAL_cos', 'vappr_MAL', 'rhum_MAL', 'temp_MAL',\n",
        "          'radianTimeSin', 'radianTimeCos', 'hourSin', 'hourCos', 'ActualDemandMW_shift', 'ForecastDemandMW_shift']\n",
        "target_attr = ['ActualWindMW']"
      ],
      "metadata": {
        "id": "1dKRnMPuC4GR"
      },
      "execution_count": 25,
      "outputs": []
    },
    {
      "cell_type": "code",
      "source": [
        "final_dataset = weather_energy_2d_Data[(feature_attr + target_attr)]\n",
        "final_dataset.shape"
      ],
      "metadata": {
        "colab": {
          "base_uri": "https://localhost:8080/"
        },
        "id": "gdr4AXXh5Gje",
        "outputId": "096a5a16-4844-452f-c488-ebf3a8aef2ff"
      },
      "execution_count": 26,
      "outputs": [
        {
          "output_type": "execute_result",
          "data": {
            "text/plain": [
              "(59112, 33)"
            ]
          },
          "metadata": {},
          "execution_count": 26
        }
      ]
    },
    {
      "cell_type": "code",
      "source": [
        "final_dataset.index.max()"
      ],
      "metadata": {
        "colab": {
          "base_uri": "https://localhost:8080/"
        },
        "id": "YQpdRl87P6NJ",
        "outputId": "c9bc4ffc-9d33-4e28-973f-1827eebac6c5"
      },
      "execution_count": 27,
      "outputs": [
        {
          "output_type": "execute_result",
          "data": {
            "text/plain": [
              "Timestamp('2021-12-31 23:00:00')"
            ]
          },
          "metadata": {},
          "execution_count": 27
        }
      ]
    },
    {
      "cell_type": "code",
      "source": [
        "train_dataset = final_dataset.iloc[final_dataset.index < '2021-12-01']\n",
        "test_dataset = final_dataset.iloc[final_dataset.index > '2021-12-01']\n",
        "print(train_dataset.shape)\n",
        "print(test_dataset.shape)"
      ],
      "metadata": {
        "colab": {
          "base_uri": "https://localhost:8080/"
        },
        "id": "x0_UGPGOPox_",
        "outputId": "de68cb5a-abe5-4404-d390-06555c280462"
      },
      "execution_count": 28,
      "outputs": [
        {
          "output_type": "stream",
          "name": "stdout",
          "text": [
            "(58499, 33)\n",
            "(612, 33)\n"
          ]
        }
      ]
    },
    {
      "cell_type": "code",
      "source": [
        "def create_dataset(dataset, look_back=1):\n",
        "    dataX, dataY = [], []\n",
        "    for i in range(len(dataset) - look_back):\n",
        "      a = dataset.iloc[i:(i + look_back), :-1]\n",
        "      dataX.append(a)\n",
        "      dataY.append(dataset.iloc[i + look_back, -1])\n",
        "    print(len(dataY))\n",
        "    return np.array(dataX), np.array(dataY)"
      ],
      "metadata": {
        "id": "30Uh_2cJ5LHo"
      },
      "execution_count": 29,
      "outputs": []
    },
    {
      "cell_type": "code",
      "source": [
        "trainx, trainY = create_dataset(train_dataset, 8)\n",
        "testx, testY = create_dataset(test_dataset, 8)\n",
        "print(trainx.shape)\n",
        "print(trainY.shape)\n",
        "print(testx.shape)\n",
        "print(testY.shape)"
      ],
      "metadata": {
        "colab": {
          "base_uri": "https://localhost:8080/"
        },
        "id": "idpBUE_2KpKO",
        "outputId": "63bec360-3d78-4b57-a3c6-ec225637eeb3"
      },
      "execution_count": 30,
      "outputs": [
        {
          "output_type": "stream",
          "name": "stdout",
          "text": [
            "58491\n",
            "604\n",
            "(58491, 8, 32)\n",
            "(58491,)\n",
            "(604, 8, 32)\n",
            "(604,)\n"
          ]
        }
      ]
    },
    {
      "cell_type": "code",
      "source": [
        "# trainX = np.reshape(trainx, (trainx.shape[0], 1, trainx.shape[1]))\n",
        "# testX = np.reshape(testx, (testx.shape[0], 1, testx.shape[1]))"
      ],
      "metadata": {
        "colab": {
          "base_uri": "https://localhost:8080/",
          "height": 358
        },
        "id": "VS2WdzDFLeb4",
        "outputId": "13ad400a-55d4-4e37-d836-70fb4e44e0db"
      },
      "execution_count": 31,
      "outputs": [
        {
          "output_type": "error",
          "ename": "ValueError",
          "evalue": "ignored",
          "traceback": [
            "\u001b[0;31m---------------------------------------------------------------------------\u001b[0m",
            "\u001b[0;31mValueError\u001b[0m                                Traceback (most recent call last)",
            "\u001b[0;32m<ipython-input-31-609c2a0293fa>\u001b[0m in \u001b[0;36m<module>\u001b[0;34m\u001b[0m\n\u001b[0;32m----> 1\u001b[0;31m \u001b[0mtrainX\u001b[0m \u001b[0;34m=\u001b[0m \u001b[0mnp\u001b[0m\u001b[0;34m.\u001b[0m\u001b[0mreshape\u001b[0m\u001b[0;34m(\u001b[0m\u001b[0mtrainx\u001b[0m\u001b[0;34m,\u001b[0m \u001b[0;34m(\u001b[0m\u001b[0mtrainx\u001b[0m\u001b[0;34m.\u001b[0m\u001b[0mshape\u001b[0m\u001b[0;34m[\u001b[0m\u001b[0;36m0\u001b[0m\u001b[0;34m]\u001b[0m\u001b[0;34m,\u001b[0m \u001b[0;36m1\u001b[0m\u001b[0;34m,\u001b[0m \u001b[0mtrainx\u001b[0m\u001b[0;34m.\u001b[0m\u001b[0mshape\u001b[0m\u001b[0;34m[\u001b[0m\u001b[0;36m1\u001b[0m\u001b[0;34m]\u001b[0m\u001b[0;34m)\u001b[0m\u001b[0;34m)\u001b[0m\u001b[0;34m\u001b[0m\u001b[0;34m\u001b[0m\u001b[0m\n\u001b[0m\u001b[1;32m      2\u001b[0m \u001b[0mtestX\u001b[0m \u001b[0;34m=\u001b[0m \u001b[0mnp\u001b[0m\u001b[0;34m.\u001b[0m\u001b[0mreshape\u001b[0m\u001b[0;34m(\u001b[0m\u001b[0mtestx\u001b[0m\u001b[0;34m,\u001b[0m \u001b[0;34m(\u001b[0m\u001b[0mtestx\u001b[0m\u001b[0;34m.\u001b[0m\u001b[0mshape\u001b[0m\u001b[0;34m[\u001b[0m\u001b[0;36m0\u001b[0m\u001b[0;34m]\u001b[0m\u001b[0;34m,\u001b[0m \u001b[0;36m1\u001b[0m\u001b[0;34m,\u001b[0m \u001b[0mtestx\u001b[0m\u001b[0;34m.\u001b[0m\u001b[0mshape\u001b[0m\u001b[0;34m[\u001b[0m\u001b[0;36m1\u001b[0m\u001b[0;34m]\u001b[0m\u001b[0;34m)\u001b[0m\u001b[0;34m)\u001b[0m\u001b[0;34m\u001b[0m\u001b[0;34m\u001b[0m\u001b[0m\n",
            "\u001b[0;32m<__array_function__ internals>\u001b[0m in \u001b[0;36mreshape\u001b[0;34m(*args, **kwargs)\u001b[0m\n",
            "\u001b[0;32m/usr/local/lib/python3.7/dist-packages/numpy/core/fromnumeric.py\u001b[0m in \u001b[0;36mreshape\u001b[0;34m(a, newshape, order)\u001b[0m\n\u001b[1;32m    296\u001b[0m            [5, 6]])\n\u001b[1;32m    297\u001b[0m     \"\"\"\n\u001b[0;32m--> 298\u001b[0;31m     \u001b[0;32mreturn\u001b[0m \u001b[0m_wrapfunc\u001b[0m\u001b[0;34m(\u001b[0m\u001b[0ma\u001b[0m\u001b[0;34m,\u001b[0m \u001b[0;34m'reshape'\u001b[0m\u001b[0;34m,\u001b[0m \u001b[0mnewshape\u001b[0m\u001b[0;34m,\u001b[0m \u001b[0morder\u001b[0m\u001b[0;34m=\u001b[0m\u001b[0morder\u001b[0m\u001b[0;34m)\u001b[0m\u001b[0;34m\u001b[0m\u001b[0;34m\u001b[0m\u001b[0m\n\u001b[0m\u001b[1;32m    299\u001b[0m \u001b[0;34m\u001b[0m\u001b[0m\n\u001b[1;32m    300\u001b[0m \u001b[0;34m\u001b[0m\u001b[0m\n",
            "\u001b[0;32m/usr/local/lib/python3.7/dist-packages/numpy/core/fromnumeric.py\u001b[0m in \u001b[0;36m_wrapfunc\u001b[0;34m(obj, method, *args, **kwds)\u001b[0m\n\u001b[1;32m     55\u001b[0m \u001b[0;34m\u001b[0m\u001b[0m\n\u001b[1;32m     56\u001b[0m     \u001b[0;32mtry\u001b[0m\u001b[0;34m:\u001b[0m\u001b[0;34m\u001b[0m\u001b[0;34m\u001b[0m\u001b[0m\n\u001b[0;32m---> 57\u001b[0;31m         \u001b[0;32mreturn\u001b[0m \u001b[0mbound\u001b[0m\u001b[0;34m(\u001b[0m\u001b[0;34m*\u001b[0m\u001b[0margs\u001b[0m\u001b[0;34m,\u001b[0m \u001b[0;34m**\u001b[0m\u001b[0mkwds\u001b[0m\u001b[0;34m)\u001b[0m\u001b[0;34m\u001b[0m\u001b[0;34m\u001b[0m\u001b[0m\n\u001b[0m\u001b[1;32m     58\u001b[0m     \u001b[0;32mexcept\u001b[0m \u001b[0mTypeError\u001b[0m\u001b[0;34m:\u001b[0m\u001b[0;34m\u001b[0m\u001b[0;34m\u001b[0m\u001b[0m\n\u001b[1;32m     59\u001b[0m         \u001b[0;31m# A TypeError occurs if the object does have such a method in its\u001b[0m\u001b[0;34m\u001b[0m\u001b[0;34m\u001b[0m\u001b[0;34m\u001b[0m\u001b[0m\n",
            "\u001b[0;31mValueError\u001b[0m: cannot reshape array of size 14973696 into shape (58491,1,8)"
          ]
        }
      ]
    },
    {
      "cell_type": "code",
      "source": [
        "model = Sequential()\n",
        "model.add(LSTM(100, input_shape=(8, 32)))\n",
        "model.add(Dense(1))\n",
        "model.compile(loss='mae', optimizer='adam')\n",
        "# history = model.fit(trainX, trainY, epochs=300, batch_size=100, validation_data=(testX, testY), verbose=0, shuffle=False)"
      ],
      "metadata": {
        "id": "kMBLQi1dTLg2"
      },
      "execution_count": 32,
      "outputs": []
    },
    {
      "cell_type": "code",
      "source": [
        "model.summary()"
      ],
      "metadata": {
        "colab": {
          "base_uri": "https://localhost:8080/"
        },
        "id": "APYpYO7ZTwkM",
        "outputId": "a79ce26c-1738-4259-825d-b09bb491173b"
      },
      "execution_count": 33,
      "outputs": [
        {
          "output_type": "stream",
          "name": "stdout",
          "text": [
            "Model: \"sequential\"\n",
            "_________________________________________________________________\n",
            " Layer (type)                Output Shape              Param #   \n",
            "=================================================================\n",
            " lstm (LSTM)                 (None, 100)               53200     \n",
            "                                                                 \n",
            " dense (Dense)               (None, 1)                 101       \n",
            "                                                                 \n",
            "=================================================================\n",
            "Total params: 53,301\n",
            "Trainable params: 53,301\n",
            "Non-trainable params: 0\n",
            "_________________________________________________________________\n"
          ]
        }
      ]
    },
    {
      "cell_type": "code",
      "source": [
        "history = model.fit(trainx, trainY, epochs=300, batch_size=100, validation_data=(testx, testY), verbose=1, shuffle=False)"
      ],
      "metadata": {
        "id": "XJ7fBQBzZVI4"
      },
      "execution_count": null,
      "outputs": []
    },
    {
      "cell_type": "code",
      "source": [
        "history"
      ],
      "metadata": {
        "id": "9p6lvPeJZhug"
      },
      "execution_count": null,
      "outputs": []
    },
    {
      "cell_type": "code",
      "source": [
        "model.save('LSTM_Model')"
      ],
      "metadata": {
        "id": "r95KgEYxc2cc"
      },
      "execution_count": null,
      "outputs": []
    }
  ]
}